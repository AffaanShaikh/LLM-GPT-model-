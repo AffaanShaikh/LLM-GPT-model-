{
 "cells": [
  {
   "cell_type": "code",
   "execution_count": 2,
   "id": "9186e6a4-c01d-4df8-8d5c-4993077a8509",
   "metadata": {},
   "outputs": [],
   "source": [
    "#for kernel command is-> python -m ipykernel install --user --name=cuda --display-name \"nameofkernel\"\n",
    "\n",
    "import torch"
   ]
  },
  {
   "cell_type": "code",
   "execution_count": 3,
   "id": "0091636a-b1c5-42b7-bc98-8393c4251dde",
   "metadata": {},
   "outputs": [],
   "source": [
    "#PYTORCH FUNCTIONS"
   ]
  },
  {
   "cell_type": "code",
   "execution_count": 4,
   "id": "e51e054e-4257-4622-8499-b49828f9fdc1",
   "metadata": {},
   "outputs": [
    {
     "data": {
      "text/plain": [
       "tensor([-13,   7,  12,  16])"
      ]
     },
     "execution_count": 4,
     "metadata": {},
     "output_type": "execute_result"
    }
   ],
   "source": [
    "#.randint(lower limit, upper limit, size) returns a tensor filled with random integers\n",
    "randint = torch.randint(-20, 20, (4,))\n",
    "randint"
   ]
  },
  {
   "cell_type": "code",
   "execution_count": 5,
   "id": "d4c10a16-4494-4b62-b8e0-be4d03a4eb26",
   "metadata": {},
   "outputs": [
    {
     "data": {
      "text/plain": [
       "tensor([[0.1000, 4.4000],\n",
       "        [2.5000, 3.6000],\n",
       "        [4.5000, 9.8000]])"
      ]
     },
     "execution_count": 5,
     "metadata": {},
     "output_type": "execute_result"
    }
   ],
   "source": [
    "#.tensor are multidimensional arrays\n",
    "tensor = torch.tensor([[0.1, 4.4], [2.5,3.6], [4.5,9.8]])\n",
    "tensor"
   ]
  },
  {
   "cell_type": "code",
   "execution_count": 6,
   "id": "6083c979-7a95-4b7a-a35b-4e6516ec83a3",
   "metadata": {},
   "outputs": [
    {
     "name": "stdout",
     "output_type": "stream",
     "text": [
      "tensor([[0., 0., 0., 0.],\n",
      "        [0., 0., 0., 0.]])\n"
     ]
    },
    {
     "data": {
      "text/plain": [
       "tensor([[1., 1., 1., 1., 1.],\n",
       "        [1., 1., 1., 1., 1.],\n",
       "        [1., 1., 1., 1., 1.]])"
      ]
     },
     "execution_count": 6,
     "metadata": {},
     "output_type": "execute_result"
    }
   ],
   "source": [
    "#.zeros and .ones matrices of 0s and 1s of given (rows,columns)\n",
    "zeros = torch.zeros(2,4)\n",
    "print(zeros)\n",
    "ones = torch.ones(3,5)\n",
    "ones\n",
    "#in the form of floating point numbers"
   ]
  },
  {
   "cell_type": "code",
   "execution_count": 7,
   "id": "9edf78af-87d8-423c-ab6c-c25069ecb5e5",
   "metadata": {},
   "outputs": [
    {
     "data": {
      "text/plain": [
       "tensor([[5.3928e-05, 6.5260e-10, 2.1860e-04],\n",
       "        [3.3091e-09, 2.1495e-04, 3.3884e-06]])"
      ]
     },
     "execution_count": 7,
     "metadata": {},
     "output_type": "execute_result"
    }
   ],
   "source": [
    "#.empty(rows,colmns)\n",
    "input = torch.empty(2,3)\n",
    "input"
   ]
  },
  {
   "cell_type": "code",
   "execution_count": 8,
   "id": "8df04237-e47b-4544-ad7b-7d17646280ce",
   "metadata": {},
   "outputs": [
    {
     "data": {
      "text/plain": [
       "tensor([0, 1, 2, 3, 4, 5])"
      ]
     },
     "execution_count": 8,
     "metadata": {},
     "output_type": "execute_result"
    }
   ],
   "source": [
    "#.arange (no. of elements, starts from 0)\n",
    "arange = torch.arange(6)\n",
    "arange"
   ]
  },
  {
   "cell_type": "code",
   "execution_count": 9,
   "id": "3cb68729-4bf0-437b-82fe-80e847c2615e",
   "metadata": {},
   "outputs": [
    {
     "name": "stdout",
     "output_type": "stream",
     "text": [
      "tensor([ 4.0000,  7.6667, 11.3333, 15.0000])\n",
      "tensor([1.0000e-10, 1.0000e-05, 1.0000e+00, 1.0000e+05, 1.0000e+10])\n"
     ]
    }
   ],
   "source": [
    "#.linspace and .logspace for reaching from given start to end points within given steps\n",
    "#writing 'start' and 'end' is optional\n",
    "linspace = torch.linspace(start=4, end=15, steps=4)\n",
    "print(linspace)\n",
    "\n",
    "logspace = torch.logspace(start=-10, end=10, steps=5)\n",
    "print(logspace)"
   ]
  },
  {
   "cell_type": "code",
   "execution_count": 10,
   "id": "d8695306-2a82-4f26-9d13-adc7ef2507f8",
   "metadata": {},
   "outputs": [
    {
     "data": {
      "text/plain": [
       "tensor([[1., 0., 0., 0.],\n",
       "        [0., 1., 0., 0.],\n",
       "        [0., 0., 1., 0.],\n",
       "        [0., 0., 0., 1.]])"
      ]
     },
     "execution_count": 10,
     "metadata": {},
     "output_type": "execute_result"
    }
   ],
   "source": [
    "#.eye(no.of rows&columns)\n",
    "#diagonal line of 1. Reduced row eucheleon form?\n",
    "eye = torch.eye(4)\n",
    "eye"
   ]
  },
  {
   "cell_type": "code",
   "execution_count": 11,
   "id": "900c2792-bd44-4bc5-94af-e3e234b16045",
   "metadata": {},
   "outputs": [
    {
     "data": {
      "text/plain": [
       "tensor([[0, 0, 0],\n",
       "        [0, 0, 0]])"
      ]
     },
     "execution_count": 11,
     "metadata": {},
     "output_type": "execute_result"
    }
   ],
   "source": [
    "#.empty_like(input) returns an uninitialized tensor with the same size as input.\n",
    "#'input' defined above\n",
    "empty_like = torch.empty_like(input, dtype=torch.int64)\n",
    "empty_like"
   ]
  },
  {
   "cell_type": "code",
   "execution_count": 12,
   "id": "2bd20175-228b-47f5-b15d-29ea0e71d73c",
   "metadata": {},
   "outputs": [
    {
     "data": {
      "text/plain": [
       "tensor([0, 1, 1, 0, 1, 1, 1, 1, 1, 1])"
      ]
     },
     "execution_count": 12,
     "metadata": {},
     "output_type": "execute_result"
    }
   ],
   "source": [
    "#.multinomial(prob., no. of samples, repl)\n",
    "probabilities = torch.tensor([0.3, 0.7])\n",
    "#0.3 or 30% => 0(index) and 0.7 or 70% => 1(index)\n",
    "# each probablity points to the index of the probability in the tensor\n",
    "samples = torch.multinomial(probabilities, num_samples=10, replacement=True)\n",
    "samples"
   ]
  },
  {
   "cell_type": "code",
   "execution_count": 13,
   "id": "5487da5b-d95d-4df3-8346-e32405f907a7",
   "metadata": {},
   "outputs": [
    {
     "name": "stdout",
     "output_type": "stream",
     "text": [
      "tensor([[0., 0.],\n",
      "        [0., 0.],\n",
      "        [1., 1.],\n",
      "        [1., 1.]])\n"
     ]
    },
    {
     "data": {
      "text/plain": [
       "tensor([[0., 0., 1., 1.],\n",
       "        [0., 0., 1., 1.]])"
      ]
     },
     "execution_count": 13,
     "metadata": {},
     "output_type": "execute_result"
    }
   ],
   "source": [
    "#.cat i.e. concatenate (tensor1, tensor2, dim=0/1)\n",
    "#If dim=0, the tensors are concatenated column-wise; if dim=1, the tensors are concatenated row-wise.\n",
    "tensor = torch.zeros(2,2)\n",
    "out = torch.cat((tensor, torch.ones([2,2])), dim=0)\n",
    "print(out)\n",
    "out = torch.cat((tensor, torch.ones([2,2])), dim=1)\n",
    "out"
   ]
  },
  {
   "cell_type": "code",
   "execution_count": 14,
   "id": "e648fd98-9cde-4cd7-8937-eec4f6797bf0",
   "metadata": {},
   "outputs": [
    {
     "name": "stdout",
     "output_type": "stream",
     "text": [
      "tensor([[1., 0., 0., 0., 0.],\n",
      "        [1., 1., 0., 0., 0.],\n",
      "        [1., 1., 1., 0., 0.],\n",
      "        [1., 1., 1., 1., 0.],\n",
      "        [1., 1., 1., 1., 1.]])\n"
     ]
    },
    {
     "data": {
      "text/plain": [
       "tensor([[1., 1., 1., 1., 1.],\n",
       "        [0., 1., 1., 1., 1.],\n",
       "        [0., 0., 1., 1., 1.],\n",
       "        [0., 0., 0., 1., 1.],\n",
       "        [0., 0., 0., 0., 1.]])"
      ]
     },
     "execution_count": 14,
     "metadata": {},
     "output_type": "execute_result"
    }
   ],
   "source": [
    "#.tril is (l)ower triangle, returns diagonal lower traingle\n",
    "ones = torch.ones(5,5)\n",
    "tril = torch.tril(ones)\n",
    "print(tril)\n",
    "\n",
    "#.triu is (u)pper diagonal triangle, of given input\n",
    "triu = torch.triu(torch.ones(5,5))\n",
    "triu"
   ]
  },
  {
   "cell_type": "code",
   "execution_count": 15,
   "id": "16d65eed-329a-413c-b836-c6919403b2b1",
   "metadata": {},
   "outputs": [
    {
     "name": "stdout",
     "output_type": "stream",
     "text": [
      "tensor([[0., -inf, -inf, -inf, -inf],\n",
      "        [0., 0., -inf, -inf, -inf],\n",
      "        [0., 0., 0., -inf, -inf],\n",
      "        [0., 0., 0., 0., -inf],\n",
      "        [0., 0., 0., 0., 0.]])\n"
     ]
    },
    {
     "data": {
      "text/plain": [
       "tensor([[1., 0., 0., 0., 0.],\n",
       "        [1., 1., 0., 0., 0.],\n",
       "        [1., 1., 1., 0., 0.],\n",
       "        [1., 1., 1., 1., 0.],\n",
       "        [1., 1., 1., 1., 1.]])"
      ]
     },
     "execution_count": 15,
     "metadata": {},
     "output_type": "execute_result"
    }
   ],
   "source": [
    "#.masked_fill(mask(BooleanTensor), value) fills elements of self tensor with value where mask is True.\n",
    "msk = torch.zeros(5,5).masked_fill(torch.tril(torch.ones(5,5)) == 0, float('-inf'))\n",
    "print(msk)\n",
    "\n",
    "#.exp(x) calculates e^x, where e is the base of the natural logarithm (approximately 2.71828).\n",
    "exponential = torch.exp(msk)\n",
    "exponential\n",
    "# -inf exp is 0, 0 exp is 1"
   ]
  },
  {
   "cell_type": "code",
   "execution_count": 16,
   "id": "f3a04cc2-4dba-4201-b6ff-9efca0cc7606",
   "metadata": {},
   "outputs": [
    {
     "data": {
      "text/plain": [
       "torch.Size([4, 3, 2])"
      ]
     },
     "execution_count": 16,
     "metadata": {},
     "output_type": "execute_result"
    }
   ],
   "source": [
    "#.transpose(0th(1st dimension),1,2) swapping/flipping dimensions of a tensor\n",
    "input = torch.zeros(2,3,4)\n",
    "out = input.transpose(0,2)\n",
    "out.shape"
   ]
  },
  {
   "cell_type": "code",
   "execution_count": 17,
   "id": "25454bae-7818-410b-94e1-9b0e3ce5b847",
   "metadata": {},
   "outputs": [
    {
     "data": {
      "text/plain": [
       "tensor([[1, 2, 3],\n",
       "        [4, 5, 6],\n",
       "        [7, 8, 9]])"
      ]
     },
     "execution_count": 17,
     "metadata": {},
     "output_type": "execute_result"
    }
   ],
   "source": [
    "#.stack(tensor1, tensor2, ...) ex:for stacking blocks, hence creating batches\n",
    "t1 = torch.tensor([1,2,3])\n",
    "t2 = torch.tensor([4,5,6])\n",
    "t3 = torch.tensor([7,8,9])\n",
    "#stacks tensors along a new dimension\n",
    "stacked_tensor = torch.stack([t1,t2,t3])\n",
    "stacked_tensor"
   ]
  },
  {
   "cell_type": "code",
   "execution_count": 18,
   "id": "419d85b6-e1b3-4744-b36b-301357df1a15",
   "metadata": {},
   "outputs": [
    {
     "name": "stdout",
     "output_type": "stream",
     "text": [
      "tensor([-8.1082, -3.8145, -0.5405], grad_fn=<SqueezeBackward4>)\n"
     ]
    }
   ],
   "source": [
    "#.nn.Linear(in_features(int)(size of each input sample), out_features(int)(size of each output sample),\n",
    "# bias(bool)(false, the layer will not learn an additive bias.)) \n",
    "\n",
    "#done to find best parameters for transformation?\n",
    "\n",
    "import torch.nn as nn\n",
    "sample = torch.tensor([10.,10.,10.])\n",
    "linear = nn.Linear(3, 3, bias=False)\n",
    "print(linear(sample))"
   ]
  },
  {
   "cell_type": "code",
   "execution_count": 19,
   "id": "a005d811-e190-4291-bc89-88ff67f35089",
   "metadata": {},
   "outputs": [
    {
     "name": "stdout",
     "output_type": "stream",
     "text": [
      "tensor([0.0900, 0.2447, 0.6652])\n"
     ]
    }
   ],
   "source": [
    "#.softmax(input)\n",
    "#calculates the exponential of each element in the input vector, then normalizes the resulting values by\n",
    "#dividing each element by the sum of all exponentials, transforming the input vector into a probability distribution\n",
    "#where the elements now represent the probabilities of different classes.\n",
    "\n",
    "import torch.nn.functional as F\n",
    "tensor1 = torch.tensor([1.0, 2.0, 3.0])\n",
    "softmax_output = F.softmax(tensor1, dim=0) #dim refers to the dimension in which it outputs\n",
    "print(softmax_output)"
   ]
  },
  {
   "cell_type": "code",
   "execution_count": 28,
   "id": "82a3de2d-7ee4-4949-8ebd-538596d99987",
   "metadata": {},
   "outputs": [
    {
     "name": "stdout",
     "output_type": "stream",
     "text": [
      "torch.Size([4, 100])\n"
     ]
    }
   ],
   "source": [
    "#.Embedding(vocab_size, dimensionality of embedding vector)\n",
    "vocab_size = 1000\n",
    "embedding_dim = 100\n",
    "embedding = nn.Embedding(vocab_size, embedding_dim)\n",
    "input_indices = torch.LongTensor([1,5,3,2])\n",
    "output = embedding(input_indices)\n",
    "print(output.shape)"
   ]
  },
  {
   "cell_type": "code",
   "execution_count": 87,
   "id": "e10c293f-6aa5-482a-97ba-ca9881a302df",
   "metadata": {},
   "outputs": [
    {
     "name": "stdout",
     "output_type": "stream",
     "text": [
      "tensor([[11,  8, 20],\n",
      "        [27, 20, 48],\n",
      "        [43, 32, 76]])\n",
      "tensor([[11,  8, 20],\n",
      "        [27, 20, 48],\n",
      "        [43, 32, 76]])\n"
     ]
    }
   ],
   "source": [
    "#matrix multiplications - @ and .matmul\n",
    "a = torch.tensor([[1,2],[3,4],[5,6]])\n",
    "b = torch.tensor([[5,4,8],[3,2,6]])\n",
    "print(a @ b)\n",
    "#can also use (torch.matmul(a,b))\n",
    "print(torch.matmul(a,b))"
   ]
  },
  {
   "cell_type": "code",
   "execution_count": 88,
   "id": "4342d0ae-d4eb-4332-8b47-3a1aecaa7b99",
   "metadata": {},
   "outputs": [
    {
     "name": "stdout",
     "output_type": "stream",
     "text": [
      "torch.float32 torch.float32\n"
     ]
    },
    {
     "data": {
      "text/plain": [
       "tensor([[0., 0., 0.],\n",
       "        [0., 0., 0.],\n",
       "        [0., 0., 0.]])"
      ]
     },
     "execution_count": 88,
     "metadata": {},
     "output_type": "execute_result"
    }
   ],
   "source": [
    "#int and float datatypes can't be multiplied together unless .float() to convert int to float\n",
    "#float to int not recommended since we need room for points to be precise\n",
    "#.randint for integers and .rand for floating point numbers\n",
    "int = torch.randint(0,1, (3,2)).float()\n",
    "float = torch.rand(2,3)\n",
    "result = torch.matmul(int, float)\n",
    "print(int.dtype, float.dtype)\n",
    "result"
   ]
  },
  {
   "cell_type": "code",
   "execution_count": 89,
   "id": "1dbca250-458b-49cb-9cdf-6774d32466a6",
   "metadata": {},
   "outputs": [
    {
     "name": "stdout",
     "output_type": "stream",
     "text": [
      "torch.Size([2, 4, 6])\n",
      "torch.Size([2, 4, 6])\n"
     ]
    }
   ],
   "source": [
    "# .shape into .view \n",
    "# .shape unpacks dimensions\n",
    "# .view to make the tensor again with given .shape dimensions\n",
    "a = torch.rand(2, 4, 6)\n",
    "print(a.shape) #using .shape again to just view the dims.\n",
    "\n",
    "x, y, z = a.shape\n",
    "a = a.view(x, y, z)\n",
    "print(a.shape)"
   ]
  },
  {
   "cell_type": "code",
   "execution_count": 90,
   "id": "7c043ce5-b7bc-485c-9192-d56dfac2a5ee",
   "metadata": {},
   "outputs": [
    {
     "name": "stdout",
     "output_type": "stream",
     "text": [
      "tensor([0.7311]) tensor([0.7616])\n"
     ]
    }
   ],
   "source": [
    "#Activation functions: ReLU, sigmoid, tanh\n",
    "x = torch.tensor([1], dtype=torch.float32)\n",
    "y = F.sigmoid(x) #sigmoid outputs values between 0 and 1\n",
    "z = F.tanh(x) #tanh outputs values between -1 and 1\n",
    "print(y, z) "
   ]
  }
 ],
 "metadata": {
  "kernelspec": {
   "display_name": "Python 3 (ipykernel)",
   "language": "python",
   "name": "python3"
  },
  "language_info": {
   "codemirror_mode": {
    "name": "ipython",
    "version": 3
   },
   "file_extension": ".py",
   "mimetype": "text/x-python",
   "name": "python",
   "nbconvert_exporter": "python",
   "pygments_lexer": "ipython3",
   "version": "3.11.4"
  }
 },
 "nbformat": 4,
 "nbformat_minor": 5
}
