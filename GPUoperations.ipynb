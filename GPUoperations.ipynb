{
 "cells": [
  {
   "cell_type": "code",
   "execution_count": 1,
   "id": "c6ac10db-f447-4d1d-b89a-33c01c77daf5",
   "metadata": {},
   "outputs": [
    {
     "name": "stdout",
     "output_type": "stream",
     "text": [
      "cuda\n"
     ]
    }
   ],
   "source": [
    "import torch\n",
    "import numpy as np\n",
    "import time\n",
    "device = 'cuda' if torch.cuda.is_available() else 'cpu'\n",
    "print(device)"
   ]
  },
  {
   "cell_type": "code",
   "execution_count": 2,
   "id": "c8f6b101-94ac-4751-9b89-a2f468fd965b",
   "metadata": {},
   "outputs": [
    {
     "name": "stdout",
     "output_type": "stream",
     "text": [
      "0.001002550\n",
      "CPU times: total: 0 ns\n",
      "Wall time: 1 ms\n"
     ]
    }
   ],
   "source": [
    "%%time\n",
    "#%%time defines cpu time(execution time) and wall time (execution+waiting time) in nanoseconds(billionth of a second)\n",
    "start_time = time.time()\n",
    "#matrix operation here\n",
    "zeros = torch.zeros(2,3)\n",
    "end_time = time.time()\n",
    "\n",
    "elapsed_time = end_time - start_time\n",
    "#formatted string literal. Syntax 'f' means formatted string and \n",
    "#expressions enclosed in curly braces {} within the string will be evaluated and replaced with their values,\n",
    "# ':' indicates the start of the format specification,\n",
    "#'.9f' Specifies the format for floating-point numbers, f for float, 9 is decimal length\n",
    "print(f\"{elapsed_time:.9f}\")"
   ]
  },
  {
   "cell_type": "code",
   "execution_count": null,
   "id": "8617ff40-03ac-4172-a130-e15b86fa7cf9",
   "metadata": {},
   "outputs": [],
   "source": [
    "#comparing cuda with gpu and numpy with cpu \n",
    "torch_rand1 = torch.rand(100,100,100,100).to(device)\n",
    "torch_rand2 = torch.rand(100,100,100,100).to(device)\n",
    "np_rand1 = torch.rand(100,100,100,100)\n",
    "np_rand2 = torch.rand(100,100,100,100)\n",
    "\n",
    "#GPU operation\n",
    "start_time = time.time()\n",
    "rand = (torch_rand1 @ torch_rand2)\n",
    "end_time = time.time()\n",
    "elapsed_time = end_time - start_time\n",
    "print(\"GPU:\"f\"{elapsed_time:.8f}\")\n",
    "\n",
    "#CPU operation\n",
    "start_time = time.time()\n",
    "rand = np.multiply(np_rand1, np_rand2)\n",
    "end_time = time.time()\n",
    "elapsed_time = end_time - start_time\n",
    "print(\"CPU:\"f\"{elapsed_time:.8f}\")\n",
    "\n",
    "#More less complex tasks are performed faster by gpu, cpu prefer high complexity tasks"
   ]
  }
 ],
 "metadata": {
  "kernelspec": {
   "display_name": "cudead",
   "language": "python",
   "name": "cuda"
  },
  "language_info": {
   "codemirror_mode": {
    "name": "ipython",
    "version": 3
   },
   "file_extension": ".py",
   "mimetype": "text/x-python",
   "name": "python",
   "nbconvert_exporter": "python",
   "pygments_lexer": "ipython3",
   "version": "3.11.4"
  }
 },
 "nbformat": 4,
 "nbformat_minor": 5
}
